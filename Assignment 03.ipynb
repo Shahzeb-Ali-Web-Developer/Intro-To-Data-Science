{
 "cells": [
  {
   "cell_type": "code",
   "execution_count": 1,
   "id": "e3189ba9",
   "metadata": {},
   "outputs": [
    {
     "data": {
      "text/plain": [
       "[{'customer': 'Alice', 'total': 250.5},\n",
       " {'customer': 'Charlie', 'total': 450},\n",
       " {'customer': 'Daisy', 'total': 100.0}]"
      ]
     },
     "execution_count": 1,
     "metadata": {},
     "output_type": "execute_result"
    }
   ],
   "source": [
    "\n",
    "# Task 1: E-commerce Data Processing\n",
    "\n",
    "# Part A: Data Validation\n",
    "orders = [\n",
    "    {\"customer\": \"Alice\", \"total\": 250.5},\n",
    "    {\"customer\": \"Bob\", \"total\": \"invalid_data\"},\n",
    "    {\"customer\": \"Charlie\", \"total\": 450},\n",
    "    {\"customer\": \"Daisy\", \"total\": 100.0},\n",
    "    {\"customer\": \"Eve\", \"total\": -30},  # Invalid total\n",
    "]\n",
    "\n",
    "def validate_orders(orders):\n",
    "    def is_valid_order(order):\n",
    "        try:\n",
    "            return isinstance(order['total'], (int, float)) and order['total'] >= 0\n",
    "        except (ValueError, TypeError):\n",
    "            return False\n",
    "\n",
    "    return list(filter(lambda order: is_valid_order(order), orders))\n",
    "\n",
    "valid_orders = validate_orders(orders)\n",
    "valid_orders\n",
    "    "
   ]
  },
  {
   "cell_type": "code",
   "execution_count": 2,
   "id": "310822f9",
   "metadata": {},
   "outputs": [
    {
     "data": {
      "text/plain": [
       "[{'customer': 'Alice', 'total': 250.5},\n",
       " {'customer': 'Charlie', 'total': 405.0},\n",
       " {'customer': 'Daisy', 'total': 100.0}]"
      ]
     },
     "execution_count": 2,
     "metadata": {},
     "output_type": "execute_result"
    }
   ],
   "source": [
    "\n",
    "# Part B: Discount Application\n",
    "def apply_discount(orders):\n",
    "    return list(map(lambda order: {\"customer\": order[\"customer\"], \"total\": order[\"total\"] * 0.9} if order[\"total\"] > 300 else order, orders))\n",
    "\n",
    "discounted_orders = apply_discount(valid_orders)\n",
    "discounted_orders\n",
    "    "
   ]
  },
  {
   "cell_type": "code",
   "execution_count": 3,
   "id": "a7288ad5",
   "metadata": {},
   "outputs": [
    {
     "data": {
      "text/plain": [
       "755.5"
      ]
     },
     "execution_count": 3,
     "metadata": {},
     "output_type": "execute_result"
    }
   ],
   "source": [
    "\n",
    "# Part C: Total Sales Calculation\n",
    "from functools import reduce\n",
    "\n",
    "def calculate_total_sales(orders):\n",
    "    return reduce(lambda total, order: total + order[\"total\"], orders, 0)\n",
    "\n",
    "total_sales = calculate_total_sales(discounted_orders)\n",
    "total_sales\n",
    "    "
   ]
  },
  {
   "cell_type": "code",
   "execution_count": 4,
   "id": "9fc8b677",
   "metadata": {},
   "outputs": [],
   "source": [
    "\n",
    "# Task 2: Iterator and Generator\n",
    "\n",
    "# Part A: Custom Iterator\n",
    "class SquareIterator:\n",
    "    def __init__(self, n):\n",
    "        self.n = n\n",
    "        self.current = 1\n",
    "\n",
    "    def __iter__(self):\n",
    "        return self\n",
    "\n",
    "    def __next__(self):\n",
    "        if self.current > self.n:\n",
    "            raise StopIteration\n",
    "        result = self.current ** 2\n",
    "        self.current += 1\n",
    "        return result\n",
    "    "
   ]
  },
  {
   "cell_type": "code",
   "execution_count": 5,
   "id": "70c318eb",
   "metadata": {},
   "outputs": [],
   "source": [
    "\n",
    "# Part B: Fibonacci Generator\n",
    "def fibonacci_generator(n):\n",
    "    a, b = 0, 1\n",
    "    for _ in range(n):\n",
    "        yield a\n",
    "        a, b = b, a + b\n",
    "    "
   ]
  },
  {
   "cell_type": "code",
   "execution_count": 6,
   "id": "7e34a708",
   "metadata": {},
   "outputs": [],
   "source": [
    "\n",
    "# Task 3: Exception Handling and Function Decorator\n",
    "\n",
    "# Part A: Chained Exceptions\n",
    "class CustomDivisionError(Exception):\n",
    "    pass\n",
    "\n",
    "def divide_numbers(numbers, divisor):\n",
    "    try:\n",
    "        if divisor == 0:\n",
    "            raise CustomDivisionError(\"Cannot divide by zero\")\n",
    "        return [num / divisor for num in numbers]\n",
    "    except (TypeError, ValueError) as e:\n",
    "        raise CustomDivisionError(f\"Error occurred: {e}\") from e\n",
    "    "
   ]
  },
  {
   "cell_type": "code",
   "execution_count": 7,
   "id": "0fa2891e",
   "metadata": {},
   "outputs": [],
   "source": [
    "\n",
    "# Part B: Exception Logging Decorator\n",
    "import functools\n",
    "import logging\n",
    "\n",
    "logging.basicConfig(level=logging.INFO)\n",
    "\n",
    "def exception_logging_decorator(func):\n",
    "    @functools.wraps(func)\n",
    "    def wrapper(*args, **kwargs):\n",
    "        try:\n",
    "            return func(*args, **kwargs)\n",
    "        except Exception as e:\n",
    "            logging.error(f\"Exception occurred in {func.__name__}: {e}\")\n",
    "            raise\n",
    "    return wrapper\n",
    "\n",
    "@exception_logging_decorator\n",
    "def sample_function():\n",
    "    raise ValueError(\"A sample error\")\n",
    "    "
   ]
  }
 ],
 "metadata": {
  "kernelspec": {
   "display_name": "Python 3",
   "language": "python",
   "name": "python3"
  },
  "language_info": {
   "codemirror_mode": {
    "name": "ipython",
    "version": 3
   },
   "file_extension": ".py",
   "mimetype": "text/x-python",
   "name": "python",
   "nbconvert_exporter": "python",
   "pygments_lexer": "ipython3",
   "version": "3.11.9"
  }
 },
 "nbformat": 4,
 "nbformat_minor": 5
}
